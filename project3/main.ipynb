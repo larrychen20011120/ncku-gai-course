{
  "cells": [
    {
      "cell_type": "markdown",
      "metadata": {
        "id": "qY1lXPCAJg2E"
      },
      "source": [
        "# PEFT for GAI Homework3\n",
        "\n"
      ]
    },
    {
      "cell_type": "markdown",
      "source": [
        "## 作業目標\n"
      ],
      "metadata": {
        "id": "ZeGhgQvPxzoi"
      }
    },
    {
      "cell_type": "markdown",
      "metadata": {
        "id": "SNg9uH2-Jg2H"
      },
      "source": [
        "## 套件 Dependency\n",
        "* 如果使用 colab 或 kaggle -> `執行以下block`\n",
        "* 一般執行環境 -> `pip install -r requirements.txt`\n"
      ]
    },
    {
      "cell_type": "code",
      "source": [
        "!pip install peft"
      ],
      "metadata": {
        "id": "2Gu8eFHdFelV",
        "colab": {
          "base_uri": "https://localhost:8080/"
        },
        "outputId": "8c8f83e4-19fb-4e87-c78b-d726c13ec716"
      },
      "execution_count": 41,
      "outputs": [
        {
          "output_type": "stream",
          "name": "stdout",
          "text": [
            "Requirement already satisfied: peft in /usr/local/lib/python3.10/dist-packages (0.10.0)\n",
            "Requirement already satisfied: numpy>=1.17 in /usr/local/lib/python3.10/dist-packages (from peft) (1.25.2)\n",
            "Requirement already satisfied: packaging>=20.0 in /usr/local/lib/python3.10/dist-packages (from peft) (24.0)\n",
            "Requirement already satisfied: psutil in /usr/local/lib/python3.10/dist-packages (from peft) (5.9.5)\n",
            "Requirement already satisfied: pyyaml in /usr/local/lib/python3.10/dist-packages (from peft) (6.0.1)\n",
            "Requirement already satisfied: torch>=1.13.0 in /usr/local/lib/python3.10/dist-packages (from peft) (2.2.1+cu121)\n",
            "Requirement already satisfied: transformers in /usr/local/lib/python3.10/dist-packages (from peft) (4.40.2)\n",
            "Requirement already satisfied: tqdm in /usr/local/lib/python3.10/dist-packages (from peft) (4.66.4)\n",
            "Requirement already satisfied: accelerate>=0.21.0 in /usr/local/lib/python3.10/dist-packages (from peft) (0.30.1)\n",
            "Requirement already satisfied: safetensors in /usr/local/lib/python3.10/dist-packages (from peft) (0.4.3)\n",
            "Requirement already satisfied: huggingface-hub>=0.17.0 in /usr/local/lib/python3.10/dist-packages (from peft) (0.20.3)\n",
            "Requirement already satisfied: filelock in /usr/local/lib/python3.10/dist-packages (from huggingface-hub>=0.17.0->peft) (3.14.0)\n",
            "Requirement already satisfied: fsspec>=2023.5.0 in /usr/local/lib/python3.10/dist-packages (from huggingface-hub>=0.17.0->peft) (2023.6.0)\n",
            "Requirement already satisfied: requests in /usr/local/lib/python3.10/dist-packages (from huggingface-hub>=0.17.0->peft) (2.31.0)\n",
            "Requirement already satisfied: typing-extensions>=3.7.4.3 in /usr/local/lib/python3.10/dist-packages (from huggingface-hub>=0.17.0->peft) (4.11.0)\n",
            "Requirement already satisfied: sympy in /usr/local/lib/python3.10/dist-packages (from torch>=1.13.0->peft) (1.12)\n",
            "Requirement already satisfied: networkx in /usr/local/lib/python3.10/dist-packages (from torch>=1.13.0->peft) (3.3)\n",
            "Requirement already satisfied: jinja2 in /usr/local/lib/python3.10/dist-packages (from torch>=1.13.0->peft) (3.1.4)\n",
            "Requirement already satisfied: nvidia-cuda-nvrtc-cu12==12.1.105 in /usr/local/lib/python3.10/dist-packages (from torch>=1.13.0->peft) (12.1.105)\n",
            "Requirement already satisfied: nvidia-cuda-runtime-cu12==12.1.105 in /usr/local/lib/python3.10/dist-packages (from torch>=1.13.0->peft) (12.1.105)\n",
            "Requirement already satisfied: nvidia-cuda-cupti-cu12==12.1.105 in /usr/local/lib/python3.10/dist-packages (from torch>=1.13.0->peft) (12.1.105)\n",
            "Requirement already satisfied: nvidia-cudnn-cu12==8.9.2.26 in /usr/local/lib/python3.10/dist-packages (from torch>=1.13.0->peft) (8.9.2.26)\n",
            "Requirement already satisfied: nvidia-cublas-cu12==12.1.3.1 in /usr/local/lib/python3.10/dist-packages (from torch>=1.13.0->peft) (12.1.3.1)\n",
            "Requirement already satisfied: nvidia-cufft-cu12==11.0.2.54 in /usr/local/lib/python3.10/dist-packages (from torch>=1.13.0->peft) (11.0.2.54)\n",
            "Requirement already satisfied: nvidia-curand-cu12==10.3.2.106 in /usr/local/lib/python3.10/dist-packages (from torch>=1.13.0->peft) (10.3.2.106)\n",
            "Requirement already satisfied: nvidia-cusolver-cu12==11.4.5.107 in /usr/local/lib/python3.10/dist-packages (from torch>=1.13.0->peft) (11.4.5.107)\n",
            "Requirement already satisfied: nvidia-cusparse-cu12==12.1.0.106 in /usr/local/lib/python3.10/dist-packages (from torch>=1.13.0->peft) (12.1.0.106)\n",
            "Requirement already satisfied: nvidia-nccl-cu12==2.19.3 in /usr/local/lib/python3.10/dist-packages (from torch>=1.13.0->peft) (2.19.3)\n",
            "Requirement already satisfied: nvidia-nvtx-cu12==12.1.105 in /usr/local/lib/python3.10/dist-packages (from torch>=1.13.0->peft) (12.1.105)\n",
            "Requirement already satisfied: triton==2.2.0 in /usr/local/lib/python3.10/dist-packages (from torch>=1.13.0->peft) (2.2.0)\n",
            "Requirement already satisfied: nvidia-nvjitlink-cu12 in /usr/local/lib/python3.10/dist-packages (from nvidia-cusolver-cu12==11.4.5.107->torch>=1.13.0->peft) (12.4.127)\n",
            "Requirement already satisfied: regex!=2019.12.17 in /usr/local/lib/python3.10/dist-packages (from transformers->peft) (2023.12.25)\n",
            "Requirement already satisfied: tokenizers<0.20,>=0.19 in /usr/local/lib/python3.10/dist-packages (from transformers->peft) (0.19.1)\n",
            "Requirement already satisfied: MarkupSafe>=2.0 in /usr/local/lib/python3.10/dist-packages (from jinja2->torch>=1.13.0->peft) (2.1.5)\n",
            "Requirement already satisfied: charset-normalizer<4,>=2 in /usr/local/lib/python3.10/dist-packages (from requests->huggingface-hub>=0.17.0->peft) (3.3.2)\n",
            "Requirement already satisfied: idna<4,>=2.5 in /usr/local/lib/python3.10/dist-packages (from requests->huggingface-hub>=0.17.0->peft) (3.7)\n",
            "Requirement already satisfied: urllib3<3,>=1.21.1 in /usr/local/lib/python3.10/dist-packages (from requests->huggingface-hub>=0.17.0->peft) (2.0.7)\n",
            "Requirement already satisfied: certifi>=2017.4.17 in /usr/local/lib/python3.10/dist-packages (from requests->huggingface-hub>=0.17.0->peft) (2024.2.2)\n",
            "Requirement already satisfied: mpmath>=0.19 in /usr/local/lib/python3.10/dist-packages (from sympy->torch>=1.13.0->peft) (1.3.0)\n"
          ]
        }
      ]
    },
    {
      "cell_type": "code",
      "execution_count": 42,
      "metadata": {
        "id": "Z3tiYaLoJg2K"
      },
      "outputs": [],
      "source": [
        "import os\n",
        "import numpy as np\n",
        "import pandas as pd\n",
        "import matplotlib.pyplot as plt\n",
        "\n",
        "import torch\n",
        "from torch.utils.data import Dataset, DataLoader\n",
        "\n",
        "import transformers as T\n",
        "\n",
        "from peft import get_peft_model, LoraConfig"
      ]
    },
    {
      "cell_type": "markdown",
      "metadata": {
        "id": "ZpZYuEYpJg2M"
      },
      "source": [
        "# 分類與迴歸任務\n",
        "## 準備資料集 (需先下載)\n",
        "- CoLA 資料集\n",
        "    - https://dl.fbaipublicfiles.com/glue/data/CoLA.zip\n",
        "    - 二分類任務\n",
        "    - 預測句子的可接受程度，合乎文法與不合乎文法\n",
        "    - 資料不具欄位名稱 -> 定義為 `label` 與 `sentence`\n",
        "    - 評價指標為 Matthew's Corr\n",
        "\n",
        "- STS-B 資料集\n",
        "    - https://dl.fbaipublicfiles.com/glue/data/STS-B.zip\n",
        "    - 迴歸任務\n",
        "    - 預測兩個句子的相似度，區間為0-5的浮點數\n",
        "    - 句子分別由 `sentence1` 與 `sentence2` 兩欄位表示，相似度分數在 `score` 欄位\n",
        "    - 評價指標為 Pearson-Spearman Corr\n"
      ]
    },
    {
      "cell_type": "markdown",
      "source": [
        "以下區塊為設定執行的實驗規格\n",
        "- 資料集名稱二選一\n",
        "- huggingface 模型名稱\n",
        "- bitfit、lora、finetune 三選一\n",
        "- 偏好的 random seed"
      ],
      "metadata": {
        "id": "YClButD3I1Lz"
      }
    },
    {
      "cell_type": "code",
      "execution_count": 43,
      "metadata": {
        "id": "xyjqPyKuJg2M"
      },
      "outputs": [],
      "source": [
        "#@title  { display-mode: \"form\" }\n",
        "DATA_NAME = \"STS-B\"         #@param [\"CoLA\", \"STS-B\"] {type:\"string\"}\n",
        "MODEL_NAME = \"roberta-base\" #@param  {type:\"string\"}\n",
        "PEFT_TYPE = \"lora\"        #@param [\"lora\", \"bitfit\", \"full-finetune\"] {type:\"string\"}\n",
        "RANDOM_SEED = 42            #@param  {type:\"integer\"}"
      ]
    },
    {
      "cell_type": "code",
      "source": [
        "# 對資料集產生對應的下載網址\n",
        "filename = f\"https://dl.fbaipublicfiles.com/glue/data/{DATA_NAME}.zip\"\n",
        "\n",
        "# 解壓縮後的檔名\n",
        "entry =  DATA_NAME\n",
        "\n",
        "# splits -> 資料集的分割名稱\n",
        "splits = [\"train\", \"dev\"]\n",
        "\n",
        "# 設定執行環境 (CPU or GPU)\n",
        "device = \"cpu\" if torch.cuda.is_available() else \"cuda\"\n",
        "dataset_dict = dict()"
      ],
      "metadata": {
        "id": "DLwtWxQBAgLJ"
      },
      "execution_count": 44,
      "outputs": []
    },
    {
      "cell_type": "markdown",
      "source": [
        "### 下載資料與解壓縮"
      ],
      "metadata": {
        "id": "ov1CzrBc9TEz"
      }
    },
    {
      "cell_type": "code",
      "execution_count": 45,
      "metadata": {
        "id": "-NyUXdw-Jg2M"
      },
      "outputs": [],
      "source": [
        "# 確認是否已下載資料 (執行多次時可以避免一直下載)\n",
        "if not os.path.isfile(f\"{DATA_NAME}.zip\"):\n",
        "    # 下載資料集\n",
        "    os.system(f\"wget {filename}\")\n",
        "    # 解壓縮\n",
        "    os.system(f\"unzip {DATA_NAME}.zip\")"
      ]
    },
    {
      "cell_type": "markdown",
      "source": [
        "### 讀取資料\n",
        "包括 train, dev, test 三種分割資料"
      ],
      "metadata": {
        "id": "tKXE9v4irAm7"
      }
    },
    {
      "cell_type": "code",
      "execution_count": 46,
      "metadata": {
        "id": "yaFWBwWTJg2N"
      },
      "outputs": [],
      "source": [
        "# 讀取所有 splits 資料\n",
        "if DATA_NAME == \"STS-B\":\n",
        "    for split_type in splits:\n",
        "        dataset_dict[split_type] = pd.read_csv(\n",
        "            os.path.join(entry, (split_type + \".tsv\")),\n",
        "            sep=\"\\t\", on_bad_lines='skip'\n",
        "        )\n",
        "else:\n",
        "    for split_type in splits:\n",
        "        dataset_dict[split_type] = pd.read_csv(\n",
        "            os.path.join(entry, (split_type + \".tsv\")),\n",
        "            sep=\"\\t\", on_bad_lines='skip',\n",
        "            usecols=[1,3],\n",
        "            names=['label', 'sentence'], header=None\n",
        "        )"
      ]
    },
    {
      "cell_type": "markdown",
      "metadata": {
        "id": "XLenxrXewj0Q"
      },
      "source": [
        "## Task 1: 資料載入\n",
        "本次作業要求選擇GLUE benchmark中的資料集至少兩個\n",
        "* 使用 torch dataset 封裝資料\n",
        "* 根據兩種不同的資料進行tokenize"
      ]
    },
    {
      "cell_type": "code",
      "source": [
        "class CustomedDataset(Dataset):\n",
        "\n",
        "    def __init__(self, encodings, labels):\n",
        "        self.encodings = encodings\n",
        "        self.labels = labels\n",
        "\n",
        "    def __getitem__(self, idx):\n",
        "        item = { key: torch.tensor(val[idx]) for key, val in self.encodings.items() }\n",
        "        item['labels'] = torch.tensor(self.labels[idx])\n",
        "        return item\n",
        "\n",
        "    def __len__(self):\n",
        "        return len(self.labels)\n",
        "\n",
        "# tokenize 資料\n",
        "def process_dataset(df, tokenizer):\n",
        "\n",
        "    # 避免資料中有 na\n",
        "    df = df.dropna(ignore_index=True)\n",
        "\n",
        "    texts = []\n",
        "    labels = None\n",
        "\n",
        "    if DATA_NAME == \"CoLA\":\n",
        "        # CoLA 會將句子放在 sentence 欄位、標籤放在 label\n",
        "        for s in df[\"sentence\"]:\n",
        "            s = s.strip() # 除去不必要的空白\n",
        "            # 包裝輸入成 tokenizer 預期的輸入\n",
        "            ### <s>  : 句子開頭\n",
        "            ### </s> : 句子結尾\n",
        "            texts.append(f\"<s> {s} </s>\")\n",
        "\n",
        "        labels = df[\"label\"]\n",
        "\n",
        "    else:\n",
        "        # STSB 會將句子放在 sentence1, sentence2 欄位、標籤放在 score\n",
        "        for s1, s2 in zip( df[\"sentence1\"], df[\"sentence2\"] ):\n",
        "            s1 = s1.strip() # 除去不必要的空白\n",
        "            s2 = s2.strip() # 除去不必要的空白\n",
        "            # 包裝輸入成 tokenizer 預期的輸入\n",
        "            ### <s>  : 句子開頭\n",
        "            ### </s> : 句子分割與結尾\n",
        "            texts.append(f\"<s> {s1} </s></s> {s2} </s>\")\n",
        "\n",
        "        labels = df[\"score\"]\n",
        "\n",
        "    encodings = tokenizer(\n",
        "        texts, truncation=True, padding=True,\n",
        "        add_special_tokens=False                # 關閉 add_special_tokens -> 已經預處理時加入<s>, </s>\n",
        "    )\n",
        "\n",
        "    # 回傳的 label 分兩種格式\n",
        "    ##### 分類 -> int\n",
        "    ##### 回歸 -> float\n",
        "    return {\n",
        "        \"encodings\": encodings,\n",
        "        \"labels\": labels.astype(int) if DATA_NAME == \"CoLA\" else labels.astype(np.float32)\n",
        "    }"
      ],
      "metadata": {
        "id": "w7Zjb5aSNXHv"
      },
      "execution_count": 47,
      "outputs": []
    },
    {
      "cell_type": "markdown",
      "metadata": {
        "id": "dW2UFRcGJg2N"
      },
      "source": [
        "### Hugging Face\n",
        "- load Model\n",
        "- load Tokenizer"
      ]
    },
    {
      "cell_type": "code",
      "execution_count": 48,
      "metadata": {
        "id": "XeyIxdSsJg2O",
        "colab": {
          "base_uri": "https://localhost:8080/"
        },
        "outputId": "b1dd31b2-3f8c-4ddd-e4a3-bf89824ee758"
      },
      "outputs": [
        {
          "output_type": "stream",
          "name": "stderr",
          "text": [
            "Some weights of RobertaForSequenceClassification were not initialized from the model checkpoint at roberta-base and are newly initialized: ['classifier.dense.bias', 'classifier.dense.weight', 'classifier.out_proj.bias', 'classifier.out_proj.weight']\n",
            "You should probably TRAIN this model on a down-stream task to be able to use it for predictions and inference.\n"
          ]
        }
      ],
      "source": [
        "# 定義不同資料集的label數量(1 -> regression -> MSELoss)\n",
        "num_labels = 2 if DATA_NAME != \"STS-B\" else 1\n",
        "# 讀入 huggingface 的 model 與 tokenizer\n",
        "model = T.AutoModelForSequenceClassification.from_pretrained( MODEL_NAME, num_labels=num_labels )\n",
        "tokenizer = T.AutoTokenizer.from_pretrained( MODEL_NAME )"
      ]
    },
    {
      "cell_type": "markdown",
      "metadata": {
        "id": "rlHobatFJg2O"
      },
      "source": [
        "### 處理資料\n",
        "* 查看資料的數量\n",
        "* 轉換資料到 torch 格式"
      ]
    },
    {
      "cell_type": "code",
      "execution_count": 49,
      "metadata": {
        "id": "TU4Zkxx2Jg2O",
        "colab": {
          "base_uri": "https://localhost:8080/"
        },
        "outputId": "620b9b54-beb7-4c5b-de35-02cd09ad7355"
      },
      "outputs": [
        {
          "output_type": "stream",
          "name": "stdout",
          "text": [
            "training size:   5706\n",
            "evaluation size: 1465\n"
          ]
        }
      ],
      "source": [
        "# 輸出資料集數量\n",
        "print(\"training size:  \", len(dataset_dict[\"train\"]))\n",
        "print(\"evaluation size:\", len(dataset_dict[\"dev\"]))"
      ]
    },
    {
      "cell_type": "code",
      "source": [
        "# 從 dataframe 轉換到 torch dataset\n",
        "train_dataset = CustomedDataset( **process_dataset(dataset_dict[\"train\"], tokenizer) )\n",
        "dev_dataset = CustomedDataset( **process_dataset(dataset_dict[\"dev\"], tokenizer) )"
      ],
      "metadata": {
        "id": "rAWg2tOxskgf"
      },
      "execution_count": 50,
      "outputs": []
    },
    {
      "cell_type": "markdown",
      "metadata": {
        "id": "WHm8VbUJwj0R"
      },
      "source": [
        "## Task2: 模型驗證\n",
        "根據兩種資料集傳回不同的評價指標\n",
        "* CoLA : matthews\n",
        "* STS-B: spearman"
      ]
    },
    {
      "cell_type": "code",
      "execution_count": 51,
      "metadata": {
        "id": "KZgSNytdJg2P"
      },
      "outputs": [],
      "source": [
        "from sklearn.metrics import matthews_corrcoef\n",
        "from scipy.stats import spearmanr\n",
        "\n",
        "# 請參考GLUE benchmark的官方網頁，使用和資料集對應的evaluation matrics\n",
        "### 本次資料集用到兩個 coefficient 分數\n",
        "###### CoLA => matthews\n",
        "###### STS-B => spearman\n",
        "\n",
        "def compute_metrics(pred):\n",
        "\n",
        "    # pred 可以透過 label_ids 和 predictions 分別取得類別與預測結果\n",
        "    labels = pred.label_ids\n",
        "    # preds 紀錄預測的結果 / score 紀錄真實標籤值\n",
        "    preds = None\n",
        "    score = None\n",
        "\n",
        "    if DATA_NAME != \"STS-B\":\n",
        "        # CoLA 資料集為分類任務需要找出預測分數最高的類別\n",
        "        preds = pred.predictions.argmax(-1)\n",
        "        score = matthews_corrcoef(labels, preds)\n",
        "    else:\n",
        "        # STS-B 是迴歸任務只需取出預測值即可\n",
        "        preds = pred.predictions[:, 0]\n",
        "        score = spearmanr(labels, preds).statistic\n",
        "\n",
        "    if np.isnan(score): # 避免相關係數有 nan 出現\n",
        "        score = 0\n",
        "\n",
        "    # 根據資料集需求回傳對應格式 (分數名稱: 分數)\n",
        "    return {\"matthews-corr\": score} if DATA_NAME != \"STS-B\" else {\"pearson-corr\": score}"
      ]
    },
    {
      "cell_type": "markdown",
      "metadata": {
        "id": "IiOY6mnKwj0R"
      },
      "source": [
        "## Task3: PEFT\n",
        "在這個模塊中，我們要求同學們把模型改成PEFT的形式（Bitfit、LoRA或者其他）\\\n",
        "同學們可以將模型的可訓練參數量print出來\n",
        "\n",
        "以下是2個資料集的baseline:\n",
        "\n",
        "|dataset|metrics|baseline|\n",
        "|----|----|----|\n",
        "|CoLA|Matthew's Corr|0.6|\n",
        "|STSB|Pearson-Spearman Corr|0.8|"
      ]
    },
    {
      "cell_type": "markdown",
      "source": [
        "以下區塊為設定執行的LoRA參數 (有需要跑lora時再改)\n",
        "- rank\n",
        "- alpha\n",
        "- dropout"
      ],
      "metadata": {
        "id": "ROVoV8rPLgPw"
      }
    },
    {
      "cell_type": "code",
      "source": [
        "#@title  { display-mode: \"form\" }\n",
        "lora_rank       = 256      #@param  {type:\"integer\"}\n",
        "lora_alpha      = 8     #@param  {type:\"number\"}\n",
        "lora_dropout    = 0.1    #@param  {type:\"number\"}"
      ],
      "metadata": {
        "id": "ORis1uNYP7q0"
      },
      "execution_count": 52,
      "outputs": []
    },
    {
      "cell_type": "markdown",
      "source": [
        "將參數轉換為字典形式 -> 之後輸入給 peft LoraConfig"
      ],
      "metadata": {
        "id": "Lyvzpt9QMTdK"
      }
    },
    {
      "cell_type": "code",
      "source": [
        "lora_config = {\n",
        "    \"r\": lora_rank,\n",
        "    \"lora_alpha\": lora_alpha,\n",
        "    \"lora_dropout\": lora_dropout\n",
        "}"
      ],
      "metadata": {
        "id": "SmZur1ftDmE4"
      },
      "execution_count": 53,
      "outputs": []
    },
    {
      "cell_type": "markdown",
      "source": [
        "計算可訓練的參數量"
      ],
      "metadata": {
        "id": "K7WAqqWoMfIm"
      }
    },
    {
      "cell_type": "code",
      "source": [
        "def show_trainable_ratio(model):\n",
        "    # 取得可訓練與不可訓練的參數量\n",
        "    trainbale_params = model.num_parameters(only_trainable=True)\n",
        "    all_params = model.num_parameters(only_trainable=False)\n",
        "\n",
        "    # 設定與 peft 相同的輸出格式 ( {trainable} || {all} || {trainable%})\n",
        "    ### :, -> 設定輸出格式千分位\n",
        "    return f\"trainable params: {trainbale_params:,} || all params: {all_params:,} || trainable%: {trainbale_params/all_params*100:.6f}\""
      ],
      "metadata": {
        "id": "c29UDt9qB0oS"
      },
      "execution_count": 54,
      "outputs": []
    },
    {
      "cell_type": "markdown",
      "source": [
        "### peft 設置\n",
        "- 根據設定凍結PLM參數或是添加額外參數\n",
        "- 並輸出可訓練參數"
      ],
      "metadata": {
        "id": "wUwDPuAmMiWb"
      }
    },
    {
      "cell_type": "code",
      "source": [
        "if PEFT_TYPE == \"lora\":\n",
        "    # LoRA -> 採用 peft 套件的設定\n",
        "    model = get_peft_model(model, LoraConfig(**lora_config))\n",
        "\n",
        "elif PEFT_TYPE == \"bitfit\":\n",
        "    # 凍結非 bias 的參數\n",
        "    for name, param in model.named_parameters():\n",
        "        if \"bias\" not in name:\n",
        "            param.requires_grad = False\n",
        "else:\n",
        "    # full finetune 不用做任何改動\n",
        "    pass\n",
        "\n",
        "# 輸出可訓練的參數佔比\n",
        "print(show_trainable_ratio(model))"
      ],
      "metadata": {
        "id": "SBVTPT8-NRjB",
        "colab": {
          "base_uri": "https://localhost:8080/"
        },
        "outputId": "a16a5af1-efed-42e4-ce8c-89a5d3cc78d4"
      },
      "execution_count": 55,
      "outputs": [
        {
          "output_type": "stream",
          "name": "stdout",
          "text": [
            "trainable params: 9,437,184 || all params: 134,083,585 || trainable%: 7.038284\n"
          ]
        }
      ]
    },
    {
      "cell_type": "markdown",
      "source": [
        "### 設定訓練時參數"
      ],
      "metadata": {
        "id": "NrwQUDnYMvH_"
      }
    },
    {
      "cell_type": "code",
      "source": [
        "#@title  { display-mode: \"form\" }\n",
        "num_train_epochs                = 10         #@param  {type:\"integer\"}\n",
        "learning_rate                   = 4e-4      #@param  {type:\"number\"}\n",
        "per_device_train_batch_size     = 16        #@param  {type:\"integer\"}\n",
        "per_device_eval_batch_size      = 16        #@param  {type:\"integer\"}\n",
        "gradient_accumulation_steps     = 1         #@param  {type:\"integer\"}\n",
        "warmup_steps                    = 200      #@param  {type:\"integer\"}\n",
        "weight_decay                    = 0.1      #@param  {type:\"number\"}\n",
        "evaluation_strategy             = \"steps\"   #@param [\"steps\", \"no\", \"epoch\"] {type:\"string\"}\n",
        "save_strategy                   = \"steps\"   #@param [\"steps\", \"no\", \"epoch\"] {type:\"string\"}\n",
        "save_steps                      = 150      #@param  {type:\"integer\"}\n",
        "eval_steps                      = 150      #@param  {type:\"integer\"}\n",
        "adam_epsilon                    = 1e-6      #@param  {type:\"number\"}\n",
        "save_total_limit                = 2         #@param  {type:\"integer\"}\n",
        "logging_steps                   = 150      #@param  {type:\"integer\"}"
      ],
      "metadata": {
        "id": "_9oj-tIfEjSE"
      },
      "execution_count": 56,
      "outputs": []
    },
    {
      "cell_type": "markdown",
      "source": [
        "將訓練參數轉為字典 -> 之後傳給 `TrainingArguments`"
      ],
      "metadata": {
        "id": "0CcBGb1uMykC"
      }
    },
    {
      "cell_type": "code",
      "source": [
        "training_args = {\n",
        "    \"output_dir\"                    :   DATA_NAME,                  # 設定輸出位置\n",
        "    \"seed\"                          :   RANDOM_SEED,                # 設定亂數種子\n",
        "    \"report_to\"                     :   \"none\",\n",
        "    \"label_names\"                   :   [\"labels\"],\n",
        "    \"num_train_epochs\"              :   num_train_epochs,\n",
        "    \"learning_rate\"                 :   learning_rate,\n",
        "    \"per_device_train_batch_size\"   :   per_device_train_batch_size,\n",
        "    \"per_device_eval_batch_size\"    :   per_device_eval_batch_size,\n",
        "    \"gradient_accumulation_steps\"   :   gradient_accumulation_steps,\n",
        "    \"warmup_steps\"                  :   warmup_steps,\n",
        "    \"weight_decay\"                  :   weight_decay,\n",
        "    \"adam_epsilon\"                  :   adam_epsilon,\n",
        "    \"evaluation_strategy\"           :   evaluation_strategy,\n",
        "    \"save_strategy\"                 :   save_strategy,\n",
        "    \"save_steps\"                    :   save_steps,\n",
        "    \"eval_steps\"                    :   eval_steps,\n",
        "    \"save_total_limit\"              :   save_total_limit,\n",
        "    \"logging_steps\"                 :   logging_steps\n",
        "}"
      ],
      "metadata": {
        "id": "JUOtleMit1fz"
      },
      "execution_count": 57,
      "outputs": []
    },
    {
      "cell_type": "markdown",
      "source": [
        "### 開始訓練"
      ],
      "metadata": {
        "id": "oBmQx4IoM8Pq"
      }
    },
    {
      "cell_type": "code",
      "execution_count": 58,
      "metadata": {
        "id": "tcj52VCawj0d",
        "colab": {
          "base_uri": "https://localhost:8080/",
          "height": 831
        },
        "outputId": "86c47c7e-3a3b-4ef4-8852-4fc17981c507"
      },
      "outputs": [
        {
          "output_type": "display_data",
          "data": {
            "text/plain": [
              "<IPython.core.display.HTML object>"
            ],
            "text/html": [
              "\n",
              "    <div>\n",
              "      \n",
              "      <progress value='3570' max='3570' style='width:300px; height:20px; vertical-align: middle;'></progress>\n",
              "      [3570/3570 1:12:06, Epoch 10/10]\n",
              "    </div>\n",
              "    <table border=\"1\" class=\"dataframe\">\n",
              "  <thead>\n",
              " <tr style=\"text-align: left;\">\n",
              "      <th>Step</th>\n",
              "      <th>Training Loss</th>\n",
              "      <th>Validation Loss</th>\n",
              "      <th>Pearson-corr</th>\n",
              "    </tr>\n",
              "  </thead>\n",
              "  <tbody>\n",
              "    <tr>\n",
              "      <td>150</td>\n",
              "      <td>5.419100</td>\n",
              "      <td>2.786229</td>\n",
              "      <td>0.164588</td>\n",
              "    </tr>\n",
              "    <tr>\n",
              "      <td>300</td>\n",
              "      <td>1.570500</td>\n",
              "      <td>0.802559</td>\n",
              "      <td>0.818322</td>\n",
              "    </tr>\n",
              "    <tr>\n",
              "      <td>450</td>\n",
              "      <td>0.791400</td>\n",
              "      <td>0.631251</td>\n",
              "      <td>0.872069</td>\n",
              "    </tr>\n",
              "    <tr>\n",
              "      <td>600</td>\n",
              "      <td>0.682900</td>\n",
              "      <td>0.535759</td>\n",
              "      <td>0.882319</td>\n",
              "    </tr>\n",
              "    <tr>\n",
              "      <td>750</td>\n",
              "      <td>0.604900</td>\n",
              "      <td>0.539252</td>\n",
              "      <td>0.887478</td>\n",
              "    </tr>\n",
              "    <tr>\n",
              "      <td>900</td>\n",
              "      <td>0.496300</td>\n",
              "      <td>0.784896</td>\n",
              "      <td>0.875454</td>\n",
              "    </tr>\n",
              "    <tr>\n",
              "      <td>1050</td>\n",
              "      <td>0.520700</td>\n",
              "      <td>0.615916</td>\n",
              "      <td>0.891415</td>\n",
              "    </tr>\n",
              "    <tr>\n",
              "      <td>1200</td>\n",
              "      <td>0.464600</td>\n",
              "      <td>0.485444</td>\n",
              "      <td>0.896395</td>\n",
              "    </tr>\n",
              "    <tr>\n",
              "      <td>1350</td>\n",
              "      <td>0.455100</td>\n",
              "      <td>0.547209</td>\n",
              "      <td>0.889596</td>\n",
              "    </tr>\n",
              "    <tr>\n",
              "      <td>1500</td>\n",
              "      <td>0.429000</td>\n",
              "      <td>0.522328</td>\n",
              "      <td>0.895802</td>\n",
              "    </tr>\n",
              "    <tr>\n",
              "      <td>1650</td>\n",
              "      <td>0.398100</td>\n",
              "      <td>0.587250</td>\n",
              "      <td>0.896299</td>\n",
              "    </tr>\n",
              "    <tr>\n",
              "      <td>1800</td>\n",
              "      <td>0.401700</td>\n",
              "      <td>0.479242</td>\n",
              "      <td>0.899666</td>\n",
              "    </tr>\n",
              "    <tr>\n",
              "      <td>1950</td>\n",
              "      <td>0.370600</td>\n",
              "      <td>0.517232</td>\n",
              "      <td>0.898509</td>\n",
              "    </tr>\n",
              "    <tr>\n",
              "      <td>2100</td>\n",
              "      <td>0.357500</td>\n",
              "      <td>0.522469</td>\n",
              "      <td>0.896551</td>\n",
              "    </tr>\n",
              "    <tr>\n",
              "      <td>2250</td>\n",
              "      <td>0.344600</td>\n",
              "      <td>0.520077</td>\n",
              "      <td>0.899028</td>\n",
              "    </tr>\n",
              "    <tr>\n",
              "      <td>2400</td>\n",
              "      <td>0.320900</td>\n",
              "      <td>0.493326</td>\n",
              "      <td>0.897885</td>\n",
              "    </tr>\n",
              "    <tr>\n",
              "      <td>2550</td>\n",
              "      <td>0.351200</td>\n",
              "      <td>0.470113</td>\n",
              "      <td>0.898526</td>\n",
              "    </tr>\n",
              "    <tr>\n",
              "      <td>2700</td>\n",
              "      <td>0.310100</td>\n",
              "      <td>0.485924</td>\n",
              "      <td>0.900264</td>\n",
              "    </tr>\n",
              "    <tr>\n",
              "      <td>2850</td>\n",
              "      <td>0.306600</td>\n",
              "      <td>0.492255</td>\n",
              "      <td>0.899864</td>\n",
              "    </tr>\n",
              "    <tr>\n",
              "      <td>3000</td>\n",
              "      <td>0.300200</td>\n",
              "      <td>0.479595</td>\n",
              "      <td>0.900626</td>\n",
              "    </tr>\n",
              "    <tr>\n",
              "      <td>3150</td>\n",
              "      <td>0.296500</td>\n",
              "      <td>0.537813</td>\n",
              "      <td>0.900735</td>\n",
              "    </tr>\n",
              "    <tr>\n",
              "      <td>3300</td>\n",
              "      <td>0.280400</td>\n",
              "      <td>0.509735</td>\n",
              "      <td>0.901163</td>\n",
              "    </tr>\n",
              "    <tr>\n",
              "      <td>3450</td>\n",
              "      <td>0.279000</td>\n",
              "      <td>0.501203</td>\n",
              "      <td>0.901626</td>\n",
              "    </tr>\n",
              "  </tbody>\n",
              "</table><p>"
            ]
          },
          "metadata": {}
        },
        {
          "output_type": "execute_result",
          "data": {
            "text/plain": [
              "TrainOutput(global_step=3570, training_loss=0.6717076523297307, metrics={'train_runtime': 4327.7733, 'train_samples_per_second': 13.178, 'train_steps_per_second': 0.825, 'total_flos': 1.48689655309017e+16, 'train_loss': 0.6717076523297307, 'epoch': 10.0})"
            ]
          },
          "metadata": {},
          "execution_count": 58
        }
      ],
      "source": [
        "trainer = T.Trainer(\n",
        "    model=model,                                        # 🤗 的模型\n",
        "    args=T.TrainingArguments(**training_args),          # Trainer 所需要的引數\n",
        "    train_dataset=train_dataset,                        # 訓練集 (注意是 PyTorch Dataset)\n",
        "    eval_dataset=dev_dataset,                           # 驗證集 (注意是 PyTorch Dataset)，可使 Trainer 在進行訓練時也進行驗證\n",
        "    compute_metrics=compute_metrics,                    # 自定的評估的指標\n",
        ")\n",
        "\n",
        "# 指定使用 1 個 GPU 進行訓練\n",
        "trainer.args._n_gpu=1\n",
        "\n",
        "# 開始進行模型訓練\n",
        "trainer.train()"
      ]
    },
    {
      "cell_type": "markdown",
      "source": [
        "### 視覺化訓練過程"
      ],
      "metadata": {
        "id": "0V_1Dm_DNJB4"
      }
    },
    {
      "cell_type": "code",
      "execution_count": 60,
      "metadata": {
        "id": "c_kNcENTJg2U",
        "colab": {
          "base_uri": "https://localhost:8080/",
          "height": 407
        },
        "outputId": "0fad0e82-424f-4a2a-ad51-24b17aa5b89b"
      },
      "outputs": [
        {
          "output_type": "display_data",
          "data": {
            "text/plain": [
              "<Figure size 1200x400 with 3 Axes>"
            ],
            "image/png": "[encoded data removed]"
          },
          "metadata": {}
        }
      ],
      "source": [
        "## 需要分析的值\n",
        "eval_steps = []\n",
        "train_losses = []\n",
        "eval_losses = []\n",
        "eval_scores = []\n",
        "learning_rates = []\n",
        "# score_name 用來取得紀錄名稱\n",
        "score_name = \"eval_matthews-corr\" if DATA_NAME != \"STS-B\" else \"eval_pearson-corr\"\n",
        "\n",
        "# 每兩個一組 -> i: training 資料 / i+1: evaluate 資料\n",
        "for i in range(0, len(trainer.state.log_history)-1, 2):\n",
        "    train_losses.append(trainer.state.log_history[i][\"loss\"])\n",
        "    learning_rates.append(trainer.state.log_history[i][\"learning_rate\"])\n",
        "    eval_losses.append(trainer.state.log_history[i+1][\"eval_loss\"])\n",
        "    eval_scores.append(trainer.state.log_history[i+1][score_name])\n",
        "    eval_steps.append(trainer.state.log_history[i+1][\"step\"])\n",
        "\n",
        "plt.figure(figsize=(12,4))\n",
        "plt.subplot(131)\n",
        "plt.title(\"Loss plot every evaluation step\")\n",
        "plt.plot(eval_steps, train_losses, \"go-\", label=\"training loss\")\n",
        "plt.plot(eval_steps, eval_losses, \"b^-\", label=\"evaluation loss\")\n",
        "plt.legend()\n",
        "plt.subplot(132)\n",
        "plt.title(\"evaluate score plot every evaluation step\")\n",
        "best_step = np.argmax(eval_scores)\n",
        "plt.plot(eval_steps, eval_scores, \"b^-\", label=score_name)\n",
        "plt.plot([eval_steps[best_step]], [eval_scores[best_step]], \"r*\", markersize=15, label=f\"best_performance={eval_scores[best_step]:.4f}\")\n",
        "plt.legend()\n",
        "plt.subplot(133)\n",
        "plt.title(\"learning rate changes every evaluation step\")\n",
        "plt.plot(eval_steps, learning_rates, \"rs-\", label=\"leaning rate\")\n",
        "plt.legend()\n",
        "plt.tight_layout()\n",
        "plt.show()"
      ]
    },
    {
      "cell_type": "markdown",
      "source": [
        "清除不需要的空間與資源"
      ],
      "metadata": {
        "id": "fZ_h9UAANFuk"
      }
    },
    {
      "cell_type": "code",
      "source": [
        "del model, tokenizer, trainer\n",
        "torch.cuda.empty_cache()"
      ],
      "metadata": {
        "id": "szNBfLu4VMAn"
      },
      "execution_count": 61,
      "outputs": []
    }
  ],
  "metadata": {
    "colab": {
      "provenance": [],
      "gpuType": "T4"
    },
    "kernelspec": {
      "display_name": "Python 3",
      "name": "python3"
    },
    "language_info": {
      "codemirror_mode": {
        "name": "ipython",
        "version": 3
      },
      "file_extension": ".py",
      "mimetype": "text/x-python",
      "name": "python",
      "nbconvert_exporter": "python",
      "pygments_lexer": "ipython3",
      "version": "3.10.14"
    },
    "accelerator": "GPU"
  },
  "nbformat": 4,
  "nbformat_minor": 0
}